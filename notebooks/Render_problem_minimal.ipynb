{
 "cells": [
  {
   "cell_type": "markdown",
   "metadata": {},
   "source": [
    "# Bangladesh Flood of 3-7 October 2004\n",
    "\n",
    "This case study notebook highlights the heavy rainfall event over greater Bangladesh during 3-7 October of 2004.\n",
    "1. <a href=\"#Introduction\">Introduction</a>\n",
    "1. <a href=\"#Basic Synoptic and Mesoscale Flows\">Basic Synoptic and Mesoscale Flows</a>\n",
    "1. <a href=\"#Moisture Advection\">Moisture Advection</a>\n",
    "1. <a href=\"#Vertical Structures\">Vertical Structures</a>\n",
    "1. <a href=\"#Summary and Conclusions\">Summary and Conclusions</a>"
   ]
  },
  {
   "cell_type": "markdown",
   "metadata": {},
   "source": [
    "<a name=\"Introduction\"></a> \n",
    "<div class=\"alert alert-info\">\n",
    "\n",
    "# 1. Introduction\n"
   ]
  },
  {
   "cell_type": "markdown",
   "metadata": {},
   "source": [
    "While not well documented, the Bangladesh flood in October 2004 "
   ]
  },
  {
   "cell_type": "markdown",
   "metadata": {},
   "source": [
    "The above plot has both the reanalysis and observational product outputs for intercomparison on a common 1-degree mesh. Over the 5-day average, TRMM 3B42 maximum estimates were ~640 mm. Most of the heaviest precipitation totals occurred along the 26N latitude belt between 90E-92E, suggesting that this event likely spanned a few hundred km. \n",
    "\n",
    "GLDAS (panel a) appears to have a bimodal peak of precipitation maxima, one in a location close to that of TRMM, and another much further to the south and west. CPCU (panel b) precipitation totals are only somewhat comparable to TRMM. The apparent \"bulls-eye\" location of CPCU's maxima can be attributed to additional ground-based observations as well as the derived microwave and infrared estimates obtained by TRMM. CHIRPS (panel c) is similar to CPCU in distribution of rain but peak values fall short at just ~300 mm.\n",
    "\n",
    "In the reanalysis outputs, MERRA-2 (panel h) displaces the most intense rain totals slightly to the north compared to TRMM 3B42 but shows a significant increase in estimated total compared to MERRA's broader distribution and lower overall rain totals (panel g); peak totals in MERRA-2 are just at ~350 mm but still comparable to TRMM. JRA-55 (panel i) shows maximum accumulations of ~250 mm but displaces this peak well to the northwest and has only an estimated 100-150 mm in the region of maxima. GSMAP (panel j) is the closest to TRMM observations showing a peak of ~400 mm over a well-defined area. Meanwhile, ERA-Interim resolved a peak of ~250-300 mm but was removed to the northeast. CMORPH also resolves the location and intensity fairly well with maxima of ~350 mm and just slightly south of the TRMM peak. CFSR (panel n) has the peak values south by a 1-2 degrees of latitude with an estimated peak value of ~250 mm. \n",
    "\n",
    "The ensemble mean (panel o) maxima is roughly ~250 mm as given by the darkest pixel color but generally in excess of ~200 mm. The ensemble root mean square (panel p) shows a maximum of ~300 mm which suggests that the overall totals distribution is not severely skewed and are generally resolved well. A local minima is observed at 23N 80W in both the ensemble mean and RMS. This is possibly due to an artifact of the calculations for both as most of the products do show higher precipitation totals in this relatively lower-accumulation location. "
   ]
  }
 ],
 "metadata": {
  "kernelspec": {
   "display_name": "Python 3",
   "language": "python",
   "name": "python3"
  },
  "language_info": {
   "codemirror_mode": {
    "name": "ipython",
    "version": 3
   },
   "file_extension": ".py",
   "mimetype": "text/x-python",
   "name": "python",
   "nbconvert_exporter": "python",
   "pygments_lexer": "ipython3",
   "version": "3.6.4"
  }
 },
 "nbformat": 4,
 "nbformat_minor": 2
}
